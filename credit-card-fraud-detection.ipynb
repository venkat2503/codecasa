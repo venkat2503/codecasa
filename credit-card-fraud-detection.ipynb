{
 "cells": [
  {
   "cell_type": "markdown",
   "id": "5136e260",
   "metadata": {
    "papermill": {
     "duration": 0.006345,
     "end_time": "2023-08-25T15:03:29.467746",
     "exception": false,
     "start_time": "2023-08-25T15:03:29.461401",
     "status": "completed"
    },
    "tags": []
   },
   "source": [
    "## libraries"
   ]
  },
  {
   "cell_type": "code",
   "execution_count": null,
   "id": "5d480ebc",
   "metadata": {
    "execution": {
     "iopub.execute_input": "2023-08-25T15:03:29.481826Z",
     "iopub.status.busy": "2023-08-25T15:03:29.481198Z",
     "iopub.status.idle": "2023-08-25T15:03:32.187886Z",
     "shell.execute_reply": "2023-08-25T15:03:32.186257Z"
    },
    "papermill": {
     "duration": 2.717086,
     "end_time": "2023-08-25T15:03:32.190920",
     "exception": false,
     "start_time": "2023-08-25T15:03:29.473834",
     "status": "completed"
    },
    "tags": []
   },
   "outputs": [],
   "source": [
    "import pandas as pd\n",
    "import numpy as np\n",
    "import matplotlib.pyplot as plt\n",
    "import seaborn as sns\n",
    "from sklearn.preprocessing import StandardScaler\n",
    "from sklearn.model_selection import train_test_split\n",
    "from sklearn.linear_model import LogisticRegression\n",
    "from sklearn.ensemble import RandomForestClassifier\n",
    "from sklearn.svm import SVC\n",
    "from sklearn.metrics import classification_report, confusion_matrix, accuracy_score\n"
   ]
  },
  {
   "cell_type": "code",
   "execution_count": 2,
   "id": "5e879f2e",
   "metadata": {
    "execution": {
     "iopub.execute_input": "2023-08-25T15:03:32.217784Z",
     "iopub.status.busy": "2023-08-25T15:03:32.216514Z",
     "iopub.status.idle": "2023-08-25T15:03:36.053825Z",
     "shell.execute_reply": "2023-08-25T15:03:36.052280Z"
    },
    "papermill": {
     "duration": 3.847723,
     "end_time": "2023-08-25T15:03:36.056727",
     "exception": false,
     "start_time": "2023-08-25T15:03:32.209004",
     "status": "completed"
    },
    "tags": []
   },
   "outputs": [
    {
     "data": {
      "text/html": [
       "<div>\n",
       "<style scoped>\n",
       "    .dataframe tbody tr th:only-of-type {\n",
       "        vertical-align: middle;\n",
       "    }\n",
       "\n",
       "    .dataframe tbody tr th {\n",
       "        vertical-align: top;\n",
       "    }\n",
       "\n",
       "    .dataframe thead th {\n",
       "        text-align: right;\n",
       "    }\n",
       "</style>\n",
       "<table border=\"1\" class=\"dataframe\">\n",
       "  <thead>\n",
       "    <tr style=\"text-align: right;\">\n",
       "      <th></th>\n",
       "      <th>Time</th>\n",
       "      <th>V1</th>\n",
       "      <th>V2</th>\n",
       "      <th>V3</th>\n",
       "      <th>V4</th>\n",
       "      <th>V5</th>\n",
       "      <th>V6</th>\n",
       "      <th>V7</th>\n",
       "      <th>V8</th>\n",
       "      <th>V9</th>\n",
       "      <th>...</th>\n",
       "      <th>V21</th>\n",
       "      <th>V22</th>\n",
       "      <th>V23</th>\n",
       "      <th>V24</th>\n",
       "      <th>V25</th>\n",
       "      <th>V26</th>\n",
       "      <th>V27</th>\n",
       "      <th>V28</th>\n",
       "      <th>Amount</th>\n",
       "      <th>Class</th>\n",
       "    </tr>\n",
       "  </thead>\n",
       "  <tbody>\n",
       "    <tr>\n",
       "      <th>0</th>\n",
       "      <td>0.0</td>\n",
       "      <td>-1.359807</td>\n",
       "      <td>-0.072781</td>\n",
       "      <td>2.536347</td>\n",
       "      <td>1.378155</td>\n",
       "      <td>-0.338321</td>\n",
       "      <td>0.462388</td>\n",
       "      <td>0.239599</td>\n",
       "      <td>0.098698</td>\n",
       "      <td>0.363787</td>\n",
       "      <td>...</td>\n",
       "      <td>-0.018307</td>\n",
       "      <td>0.277838</td>\n",
       "      <td>-0.110474</td>\n",
       "      <td>0.066928</td>\n",
       "      <td>0.128539</td>\n",
       "      <td>-0.189115</td>\n",
       "      <td>0.133558</td>\n",
       "      <td>-0.021053</td>\n",
       "      <td>149.62</td>\n",
       "      <td>0</td>\n",
       "    </tr>\n",
       "    <tr>\n",
       "      <th>1</th>\n",
       "      <td>0.0</td>\n",
       "      <td>1.191857</td>\n",
       "      <td>0.266151</td>\n",
       "      <td>0.166480</td>\n",
       "      <td>0.448154</td>\n",
       "      <td>0.060018</td>\n",
       "      <td>-0.082361</td>\n",
       "      <td>-0.078803</td>\n",
       "      <td>0.085102</td>\n",
       "      <td>-0.255425</td>\n",
       "      <td>...</td>\n",
       "      <td>-0.225775</td>\n",
       "      <td>-0.638672</td>\n",
       "      <td>0.101288</td>\n",
       "      <td>-0.339846</td>\n",
       "      <td>0.167170</td>\n",
       "      <td>0.125895</td>\n",
       "      <td>-0.008983</td>\n",
       "      <td>0.014724</td>\n",
       "      <td>2.69</td>\n",
       "      <td>0</td>\n",
       "    </tr>\n",
       "    <tr>\n",
       "      <th>2</th>\n",
       "      <td>1.0</td>\n",
       "      <td>-1.358354</td>\n",
       "      <td>-1.340163</td>\n",
       "      <td>1.773209</td>\n",
       "      <td>0.379780</td>\n",
       "      <td>-0.503198</td>\n",
       "      <td>1.800499</td>\n",
       "      <td>0.791461</td>\n",
       "      <td>0.247676</td>\n",
       "      <td>-1.514654</td>\n",
       "      <td>...</td>\n",
       "      <td>0.247998</td>\n",
       "      <td>0.771679</td>\n",
       "      <td>0.909412</td>\n",
       "      <td>-0.689281</td>\n",
       "      <td>-0.327642</td>\n",
       "      <td>-0.139097</td>\n",
       "      <td>-0.055353</td>\n",
       "      <td>-0.059752</td>\n",
       "      <td>378.66</td>\n",
       "      <td>0</td>\n",
       "    </tr>\n",
       "    <tr>\n",
       "      <th>3</th>\n",
       "      <td>1.0</td>\n",
       "      <td>-0.966272</td>\n",
       "      <td>-0.185226</td>\n",
       "      <td>1.792993</td>\n",
       "      <td>-0.863291</td>\n",
       "      <td>-0.010309</td>\n",
       "      <td>1.247203</td>\n",
       "      <td>0.237609</td>\n",
       "      <td>0.377436</td>\n",
       "      <td>-1.387024</td>\n",
       "      <td>...</td>\n",
       "      <td>-0.108300</td>\n",
       "      <td>0.005274</td>\n",
       "      <td>-0.190321</td>\n",
       "      <td>-1.175575</td>\n",
       "      <td>0.647376</td>\n",
       "      <td>-0.221929</td>\n",
       "      <td>0.062723</td>\n",
       "      <td>0.061458</td>\n",
       "      <td>123.50</td>\n",
       "      <td>0</td>\n",
       "    </tr>\n",
       "    <tr>\n",
       "      <th>4</th>\n",
       "      <td>2.0</td>\n",
       "      <td>-1.158233</td>\n",
       "      <td>0.877737</td>\n",
       "      <td>1.548718</td>\n",
       "      <td>0.403034</td>\n",
       "      <td>-0.407193</td>\n",
       "      <td>0.095921</td>\n",
       "      <td>0.592941</td>\n",
       "      <td>-0.270533</td>\n",
       "      <td>0.817739</td>\n",
       "      <td>...</td>\n",
       "      <td>-0.009431</td>\n",
       "      <td>0.798278</td>\n",
       "      <td>-0.137458</td>\n",
       "      <td>0.141267</td>\n",
       "      <td>-0.206010</td>\n",
       "      <td>0.502292</td>\n",
       "      <td>0.219422</td>\n",
       "      <td>0.215153</td>\n",
       "      <td>69.99</td>\n",
       "      <td>0</td>\n",
       "    </tr>\n",
       "  </tbody>\n",
       "</table>\n",
       "<p>5 rows × 31 columns</p>\n",
       "</div>"
      ],
      "text/plain": [
       "   Time        V1        V2        V3        V4        V5        V6        V7  \\\n",
       "0   0.0 -1.359807 -0.072781  2.536347  1.378155 -0.338321  0.462388  0.239599   \n",
       "1   0.0  1.191857  0.266151  0.166480  0.448154  0.060018 -0.082361 -0.078803   \n",
       "2   1.0 -1.358354 -1.340163  1.773209  0.379780 -0.503198  1.800499  0.791461   \n",
       "3   1.0 -0.966272 -0.185226  1.792993 -0.863291 -0.010309  1.247203  0.237609   \n",
       "4   2.0 -1.158233  0.877737  1.548718  0.403034 -0.407193  0.095921  0.592941   \n",
       "\n",
       "         V8        V9  ...       V21       V22       V23       V24       V25  \\\n",
       "0  0.098698  0.363787  ... -0.018307  0.277838 -0.110474  0.066928  0.128539   \n",
       "1  0.085102 -0.255425  ... -0.225775 -0.638672  0.101288 -0.339846  0.167170   \n",
       "2  0.247676 -1.514654  ...  0.247998  0.771679  0.909412 -0.689281 -0.327642   \n",
       "3  0.377436 -1.387024  ... -0.108300  0.005274 -0.190321 -1.175575  0.647376   \n",
       "4 -0.270533  0.817739  ... -0.009431  0.798278 -0.137458  0.141267 -0.206010   \n",
       "\n",
       "        V26       V27       V28  Amount  Class  \n",
       "0 -0.189115  0.133558 -0.021053  149.62      0  \n",
       "1  0.125895 -0.008983  0.014724    2.69      0  \n",
       "2 -0.139097 -0.055353 -0.059752  378.66      0  \n",
       "3 -0.221929  0.062723  0.061458  123.50      0  \n",
       "4  0.502292  0.219422  0.215153   69.99      0  \n",
       "\n",
       "[5 rows x 31 columns]"
      ]
     },
     "execution_count": 2,
     "metadata": {},
     "output_type": "execute_result"
    }
   ],
   "source": [
    "\n",
    "df=pd.read_csv('creditcard.csv')\n",
    "df.head()"
   ]
  },
  {
   "cell_type": "code",
   "execution_count": 3,
   "id": "79f90895",
   "metadata": {
    "execution": {
     "iopub.execute_input": "2023-08-25T15:03:36.071630Z",
     "iopub.status.busy": "2023-08-25T15:03:36.071249Z",
     "iopub.status.idle": "2023-08-25T15:03:36.112589Z",
     "shell.execute_reply": "2023-08-25T15:03:36.111111Z"
    },
    "papermill": {
     "duration": 0.052617,
     "end_time": "2023-08-25T15:03:36.115912",
     "exception": false,
     "start_time": "2023-08-25T15:03:36.063295",
     "status": "completed"
    },
    "tags": []
   },
   "outputs": [
    {
     "name": "stdout",
     "output_type": "stream",
     "text": [
      "<class 'pandas.core.frame.DataFrame'>\n",
      "RangeIndex: 284807 entries, 0 to 284806\n",
      "Data columns (total 31 columns):\n",
      " #   Column  Non-Null Count   Dtype  \n",
      "---  ------  --------------   -----  \n",
      " 0   Time    284807 non-null  float64\n",
      " 1   V1      284807 non-null  float64\n",
      " 2   V2      284807 non-null  float64\n",
      " 3   V3      284807 non-null  float64\n",
      " 4   V4      284807 non-null  float64\n",
      " 5   V5      284807 non-null  float64\n",
      " 6   V6      284807 non-null  float64\n",
      " 7   V7      284807 non-null  float64\n",
      " 8   V8      284807 non-null  float64\n",
      " 9   V9      284807 non-null  float64\n",
      " 10  V10     284807 non-null  float64\n",
      " 11  V11     284807 non-null  float64\n",
      " 12  V12     284807 non-null  float64\n",
      " 13  V13     284807 non-null  float64\n",
      " 14  V14     284807 non-null  float64\n",
      " 15  V15     284807 non-null  float64\n",
      " 16  V16     284807 non-null  float64\n",
      " 17  V17     284807 non-null  float64\n",
      " 18  V18     284807 non-null  float64\n",
      " 19  V19     284807 non-null  float64\n",
      " 20  V20     284807 non-null  float64\n",
      " 21  V21     284807 non-null  float64\n",
      " 22  V22     284807 non-null  float64\n",
      " 23  V23     284807 non-null  float64\n",
      " 24  V24     284807 non-null  float64\n",
      " 25  V25     284807 non-null  float64\n",
      " 26  V26     284807 non-null  float64\n",
      " 27  V27     284807 non-null  float64\n",
      " 28  V28     284807 non-null  float64\n",
      " 29  Amount  284807 non-null  float64\n",
      " 30  Class   284807 non-null  int64  \n",
      "dtypes: float64(30), int64(1)\n",
      "memory usage: 67.4 MB\n",
      "The information about the dataset:\n",
      "None\n"
     ]
    }
   ],
   "source": [
    "print(f'The information about the dataset:\\n{df.info()}')"
   ]
  },
  {
   "cell_type": "code",
   "execution_count": 5,
   "id": "1abccdd0",
   "metadata": {
    "execution": {
     "iopub.execute_input": "2023-08-25T15:03:36.158031Z",
     "iopub.status.busy": "2023-08-25T15:03:36.157545Z",
     "iopub.status.idle": "2023-08-25T15:03:36.548930Z",
     "shell.execute_reply": "2023-08-25T15:03:36.547230Z"
    },
    "papermill": {
     "duration": 0.402534,
     "end_time": "2023-08-25T15:03:36.551945",
     "exception": false,
     "start_time": "2023-08-25T15:03:36.149411",
     "status": "completed"
    },
    "tags": []
   },
   "outputs": [
    {
     "name": "stdout",
     "output_type": "stream",
     "text": [
      "The description of dataset:\n",
      "           count          mean           std         min           25%  \\\n",
      "Time    284807.0  9.481386e+04  47488.145955    0.000000  54201.500000   \n",
      "V1      284807.0  1.168375e-15      1.958696  -56.407510     -0.920373   \n",
      "V2      284807.0  3.416908e-16      1.651309  -72.715728     -0.598550   \n",
      "V3      284807.0 -1.379537e-15      1.516255  -48.325589     -0.890365   \n",
      "V4      284807.0  2.074095e-15      1.415869   -5.683171     -0.848640   \n",
      "V5      284807.0  9.604066e-16      1.380247 -113.743307     -0.691597   \n",
      "V6      284807.0  1.487313e-15      1.332271  -26.160506     -0.768296   \n",
      "V7      284807.0 -5.556467e-16      1.237094  -43.557242     -0.554076   \n",
      "V8      284807.0  1.213481e-16      1.194353  -73.216718     -0.208630   \n",
      "V9      284807.0 -2.406331e-15      1.098632  -13.434066     -0.643098   \n",
      "V10     284807.0  2.239053e-15      1.088850  -24.588262     -0.535426   \n",
      "V11     284807.0  1.673327e-15      1.020713   -4.797473     -0.762494   \n",
      "V12     284807.0 -1.247012e-15      0.999201  -18.683715     -0.405571   \n",
      "V13     284807.0  8.190001e-16      0.995274   -5.791881     -0.648539   \n",
      "V14     284807.0  1.207294e-15      0.958596  -19.214325     -0.425574   \n",
      "V15     284807.0  4.887456e-15      0.915316   -4.498945     -0.582884   \n",
      "V16     284807.0  1.437716e-15      0.876253  -14.129855     -0.468037   \n",
      "V17     284807.0 -3.772171e-16      0.849337  -25.162799     -0.483748   \n",
      "V18     284807.0  9.564149e-16      0.838176   -9.498746     -0.498850   \n",
      "V19     284807.0  1.039917e-15      0.814041   -7.213527     -0.456299   \n",
      "V20     284807.0  6.406204e-16      0.770925  -54.497720     -0.211721   \n",
      "V21     284807.0  1.654067e-16      0.734524  -34.830382     -0.228395   \n",
      "V22     284807.0 -3.568593e-16      0.725702  -10.933144     -0.542350   \n",
      "V23     284807.0  2.578648e-16      0.624460  -44.807735     -0.161846   \n",
      "V24     284807.0  4.473266e-15      0.605647   -2.836627     -0.354586   \n",
      "V25     284807.0  5.340915e-16      0.521278  -10.295397     -0.317145   \n",
      "V26     284807.0  1.683437e-15      0.482227   -2.604551     -0.326984   \n",
      "V27     284807.0 -3.660091e-16      0.403632  -22.565679     -0.070840   \n",
      "V28     284807.0 -1.227390e-16      0.330083  -15.430084     -0.052960   \n",
      "Amount  284807.0  8.834962e+01    250.120109    0.000000      5.600000   \n",
      "Class   284807.0  1.727486e-03      0.041527    0.000000      0.000000   \n",
      "\n",
      "                 50%            75%            max  \n",
      "Time    84692.000000  139320.500000  172792.000000  \n",
      "V1          0.018109       1.315642       2.454930  \n",
      "V2          0.065486       0.803724      22.057729  \n",
      "V3          0.179846       1.027196       9.382558  \n",
      "V4         -0.019847       0.743341      16.875344  \n",
      "V5         -0.054336       0.611926      34.801666  \n",
      "V6         -0.274187       0.398565      73.301626  \n",
      "V7          0.040103       0.570436     120.589494  \n",
      "V8          0.022358       0.327346      20.007208  \n",
      "V9         -0.051429       0.597139      15.594995  \n",
      "V10        -0.092917       0.453923      23.745136  \n",
      "V11        -0.032757       0.739593      12.018913  \n",
      "V12         0.140033       0.618238       7.848392  \n",
      "V13        -0.013568       0.662505       7.126883  \n",
      "V14         0.050601       0.493150      10.526766  \n",
      "V15         0.048072       0.648821       8.877742  \n",
      "V16         0.066413       0.523296      17.315112  \n",
      "V17        -0.065676       0.399675       9.253526  \n",
      "V18        -0.003636       0.500807       5.041069  \n",
      "V19         0.003735       0.458949       5.591971  \n",
      "V20        -0.062481       0.133041      39.420904  \n",
      "V21        -0.029450       0.186377      27.202839  \n",
      "V22         0.006782       0.528554      10.503090  \n",
      "V23        -0.011193       0.147642      22.528412  \n",
      "V24         0.040976       0.439527       4.584549  \n",
      "V25         0.016594       0.350716       7.519589  \n",
      "V26        -0.052139       0.240952       3.517346  \n",
      "V27         0.001342       0.091045      31.612198  \n",
      "V28         0.011244       0.078280      33.847808  \n",
      "Amount     22.000000      77.165000   25691.160000  \n",
      "Class       0.000000       0.000000       1.000000  \n"
     ]
    }
   ],
   "source": [
    "print(f'The description of dataset:\\n{df.describe(include=\"all\").T}')"
   ]
  },
  {
   "cell_type": "code",
   "execution_count": 6,
   "id": "a37ac76c",
   "metadata": {
    "execution": {
     "iopub.execute_input": "2023-08-25T15:03:36.568181Z",
     "iopub.status.busy": "2023-08-25T15:03:36.567711Z",
     "iopub.status.idle": "2023-08-25T15:03:36.590435Z",
     "shell.execute_reply": "2023-08-25T15:03:36.589209Z"
    },
    "papermill": {
     "duration": 0.034752,
     "end_time": "2023-08-25T15:03:36.593824",
     "exception": false,
     "start_time": "2023-08-25T15:03:36.559072",
     "status": "completed"
    },
    "tags": []
   },
   "outputs": [
    {
     "data": {
      "text/html": [
       "<div>\n",
       "<style scoped>\n",
       "    .dataframe tbody tr th:only-of-type {\n",
       "        vertical-align: middle;\n",
       "    }\n",
       "\n",
       "    .dataframe tbody tr th {\n",
       "        vertical-align: top;\n",
       "    }\n",
       "\n",
       "    .dataframe thead th {\n",
       "        text-align: right;\n",
       "    }\n",
       "</style>\n",
       "<table border=\"1\" class=\"dataframe\">\n",
       "  <thead>\n",
       "    <tr style=\"text-align: right;\">\n",
       "      <th></th>\n",
       "      <th>Time</th>\n",
       "      <th>V1</th>\n",
       "      <th>V2</th>\n",
       "      <th>V3</th>\n",
       "      <th>V4</th>\n",
       "      <th>V5</th>\n",
       "      <th>V6</th>\n",
       "      <th>V7</th>\n",
       "      <th>V8</th>\n",
       "      <th>V9</th>\n",
       "      <th>...</th>\n",
       "      <th>V21</th>\n",
       "      <th>V22</th>\n",
       "      <th>V23</th>\n",
       "      <th>V24</th>\n",
       "      <th>V25</th>\n",
       "      <th>V26</th>\n",
       "      <th>V27</th>\n",
       "      <th>V28</th>\n",
       "      <th>Amount</th>\n",
       "      <th>Class</th>\n",
       "    </tr>\n",
       "  </thead>\n",
       "  <tbody>\n",
       "    <tr>\n",
       "      <th>284802</th>\n",
       "      <td>172786.0</td>\n",
       "      <td>-11.881118</td>\n",
       "      <td>10.071785</td>\n",
       "      <td>-9.834783</td>\n",
       "      <td>-2.066656</td>\n",
       "      <td>-5.364473</td>\n",
       "      <td>-2.606837</td>\n",
       "      <td>-4.918215</td>\n",
       "      <td>7.305334</td>\n",
       "      <td>1.914428</td>\n",
       "      <td>...</td>\n",
       "      <td>0.213454</td>\n",
       "      <td>0.111864</td>\n",
       "      <td>1.014480</td>\n",
       "      <td>-0.509348</td>\n",
       "      <td>1.436807</td>\n",
       "      <td>0.250034</td>\n",
       "      <td>0.943651</td>\n",
       "      <td>0.823731</td>\n",
       "      <td>0.77</td>\n",
       "      <td>0</td>\n",
       "    </tr>\n",
       "    <tr>\n",
       "      <th>284803</th>\n",
       "      <td>172787.0</td>\n",
       "      <td>-0.732789</td>\n",
       "      <td>-0.055080</td>\n",
       "      <td>2.035030</td>\n",
       "      <td>-0.738589</td>\n",
       "      <td>0.868229</td>\n",
       "      <td>1.058415</td>\n",
       "      <td>0.024330</td>\n",
       "      <td>0.294869</td>\n",
       "      <td>0.584800</td>\n",
       "      <td>...</td>\n",
       "      <td>0.214205</td>\n",
       "      <td>0.924384</td>\n",
       "      <td>0.012463</td>\n",
       "      <td>-1.016226</td>\n",
       "      <td>-0.606624</td>\n",
       "      <td>-0.395255</td>\n",
       "      <td>0.068472</td>\n",
       "      <td>-0.053527</td>\n",
       "      <td>24.79</td>\n",
       "      <td>0</td>\n",
       "    </tr>\n",
       "    <tr>\n",
       "      <th>284804</th>\n",
       "      <td>172788.0</td>\n",
       "      <td>1.919565</td>\n",
       "      <td>-0.301254</td>\n",
       "      <td>-3.249640</td>\n",
       "      <td>-0.557828</td>\n",
       "      <td>2.630515</td>\n",
       "      <td>3.031260</td>\n",
       "      <td>-0.296827</td>\n",
       "      <td>0.708417</td>\n",
       "      <td>0.432454</td>\n",
       "      <td>...</td>\n",
       "      <td>0.232045</td>\n",
       "      <td>0.578229</td>\n",
       "      <td>-0.037501</td>\n",
       "      <td>0.640134</td>\n",
       "      <td>0.265745</td>\n",
       "      <td>-0.087371</td>\n",
       "      <td>0.004455</td>\n",
       "      <td>-0.026561</td>\n",
       "      <td>67.88</td>\n",
       "      <td>0</td>\n",
       "    </tr>\n",
       "    <tr>\n",
       "      <th>284805</th>\n",
       "      <td>172788.0</td>\n",
       "      <td>-0.240440</td>\n",
       "      <td>0.530483</td>\n",
       "      <td>0.702510</td>\n",
       "      <td>0.689799</td>\n",
       "      <td>-0.377961</td>\n",
       "      <td>0.623708</td>\n",
       "      <td>-0.686180</td>\n",
       "      <td>0.679145</td>\n",
       "      <td>0.392087</td>\n",
       "      <td>...</td>\n",
       "      <td>0.265245</td>\n",
       "      <td>0.800049</td>\n",
       "      <td>-0.163298</td>\n",
       "      <td>0.123205</td>\n",
       "      <td>-0.569159</td>\n",
       "      <td>0.546668</td>\n",
       "      <td>0.108821</td>\n",
       "      <td>0.104533</td>\n",
       "      <td>10.00</td>\n",
       "      <td>0</td>\n",
       "    </tr>\n",
       "    <tr>\n",
       "      <th>284806</th>\n",
       "      <td>172792.0</td>\n",
       "      <td>-0.533413</td>\n",
       "      <td>-0.189733</td>\n",
       "      <td>0.703337</td>\n",
       "      <td>-0.506271</td>\n",
       "      <td>-0.012546</td>\n",
       "      <td>-0.649617</td>\n",
       "      <td>1.577006</td>\n",
       "      <td>-0.414650</td>\n",
       "      <td>0.486180</td>\n",
       "      <td>...</td>\n",
       "      <td>0.261057</td>\n",
       "      <td>0.643078</td>\n",
       "      <td>0.376777</td>\n",
       "      <td>0.008797</td>\n",
       "      <td>-0.473649</td>\n",
       "      <td>-0.818267</td>\n",
       "      <td>-0.002415</td>\n",
       "      <td>0.013649</td>\n",
       "      <td>217.00</td>\n",
       "      <td>0</td>\n",
       "    </tr>\n",
       "  </tbody>\n",
       "</table>\n",
       "<p>5 rows × 31 columns</p>\n",
       "</div>"
      ],
      "text/plain": [
       "            Time         V1         V2        V3        V4        V5  \\\n",
       "284802  172786.0 -11.881118  10.071785 -9.834783 -2.066656 -5.364473   \n",
       "284803  172787.0  -0.732789  -0.055080  2.035030 -0.738589  0.868229   \n",
       "284804  172788.0   1.919565  -0.301254 -3.249640 -0.557828  2.630515   \n",
       "284805  172788.0  -0.240440   0.530483  0.702510  0.689799 -0.377961   \n",
       "284806  172792.0  -0.533413  -0.189733  0.703337 -0.506271 -0.012546   \n",
       "\n",
       "              V6        V7        V8        V9  ...       V21       V22  \\\n",
       "284802 -2.606837 -4.918215  7.305334  1.914428  ...  0.213454  0.111864   \n",
       "284803  1.058415  0.024330  0.294869  0.584800  ...  0.214205  0.924384   \n",
       "284804  3.031260 -0.296827  0.708417  0.432454  ...  0.232045  0.578229   \n",
       "284805  0.623708 -0.686180  0.679145  0.392087  ...  0.265245  0.800049   \n",
       "284806 -0.649617  1.577006 -0.414650  0.486180  ...  0.261057  0.643078   \n",
       "\n",
       "             V23       V24       V25       V26       V27       V28  Amount  \\\n",
       "284802  1.014480 -0.509348  1.436807  0.250034  0.943651  0.823731    0.77   \n",
       "284803  0.012463 -1.016226 -0.606624 -0.395255  0.068472 -0.053527   24.79   \n",
       "284804 -0.037501  0.640134  0.265745 -0.087371  0.004455 -0.026561   67.88   \n",
       "284805 -0.163298  0.123205 -0.569159  0.546668  0.108821  0.104533   10.00   \n",
       "284806  0.376777  0.008797 -0.473649 -0.818267 -0.002415  0.013649  217.00   \n",
       "\n",
       "        Class  \n",
       "284802      0  \n",
       "284803      0  \n",
       "284804      0  \n",
       "284805      0  \n",
       "284806      0  \n",
       "\n",
       "[5 rows x 31 columns]"
      ]
     },
     "execution_count": 6,
     "metadata": {},
     "output_type": "execute_result"
    }
   ],
   "source": [
    "df.tail()"
   ]
  },
  {
   "cell_type": "code",
   "execution_count": 7,
   "id": "ba2aa4cd",
   "metadata": {
    "execution": {
     "iopub.execute_input": "2023-08-25T15:03:36.610330Z",
     "iopub.status.busy": "2023-08-25T15:03:36.609792Z",
     "iopub.status.idle": "2023-08-25T15:03:36.627372Z",
     "shell.execute_reply": "2023-08-25T15:03:36.625926Z"
    },
    "papermill": {
     "duration": 0.028573,
     "end_time": "2023-08-25T15:03:36.629633",
     "exception": false,
     "start_time": "2023-08-25T15:03:36.601060",
     "status": "completed"
    },
    "tags": []
   },
   "outputs": [
    {
     "data": {
      "text/plain": [
       "Time      0\n",
       "V1        0\n",
       "V2        0\n",
       "V3        0\n",
       "V4        0\n",
       "V5        0\n",
       "V6        0\n",
       "V7        0\n",
       "V8        0\n",
       "V9        0\n",
       "V10       0\n",
       "V11       0\n",
       "V12       0\n",
       "V13       0\n",
       "V14       0\n",
       "V15       0\n",
       "V16       0\n",
       "V17       0\n",
       "V18       0\n",
       "V19       0\n",
       "V20       0\n",
       "V21       0\n",
       "V22       0\n",
       "V23       0\n",
       "V24       0\n",
       "V25       0\n",
       "V26       0\n",
       "V27       0\n",
       "V28       0\n",
       "Amount    0\n",
       "Class     0\n",
       "dtype: int64"
      ]
     },
     "execution_count": 7,
     "metadata": {},
     "output_type": "execute_result"
    }
   ],
   "source": [
    "df.isnull().sum()"
   ]
  },
  {
   "cell_type": "code",
   "execution_count": 8,
   "id": "fbec458d",
   "metadata": {
    "execution": {
     "iopub.execute_input": "2023-08-25T15:03:36.646110Z",
     "iopub.status.busy": "2023-08-25T15:03:36.645721Z",
     "iopub.status.idle": "2023-08-25T15:03:37.603547Z",
     "shell.execute_reply": "2023-08-25T15:03:37.601865Z"
    },
    "papermill": {
     "duration": 0.968985,
     "end_time": "2023-08-25T15:03:37.606075",
     "exception": false,
     "start_time": "2023-08-25T15:03:36.637090",
     "status": "completed"
    },
    "tags": []
   },
   "outputs": [
    {
     "data": {
      "text/plain": [
       "1081"
      ]
     },
     "execution_count": 8,
     "metadata": {},
     "output_type": "execute_result"
    }
   ],
   "source": [
    "df.drop(columns='Class',axis=1).duplicated().sum()"
   ]
  },
  {
   "cell_type": "code",
   "execution_count": 9,
   "id": "7daa8bd5",
   "metadata": {
    "execution": {
     "iopub.execute_input": "2023-08-25T15:03:37.623740Z",
     "iopub.status.busy": "2023-08-25T15:03:37.623204Z",
     "iopub.status.idle": "2023-08-25T15:03:37.634416Z",
     "shell.execute_reply": "2023-08-25T15:03:37.632103Z"
    },
    "papermill": {
     "duration": 0.023675,
     "end_time": "2023-08-25T15:03:37.637433",
     "exception": false,
     "start_time": "2023-08-25T15:03:37.613758",
     "status": "completed"
    },
    "tags": []
   },
   "outputs": [
    {
     "data": {
      "text/plain": [
       "(284807, 31)"
      ]
     },
     "execution_count": 9,
     "metadata": {},
     "output_type": "execute_result"
    }
   ],
   "source": [
    "df.shape"
   ]
  },
  {
   "cell_type": "code",
   "execution_count": 10,
   "id": "7e014c6d",
   "metadata": {
    "execution": {
     "iopub.execute_input": "2023-08-25T15:03:37.672734Z",
     "iopub.status.busy": "2023-08-25T15:03:37.672324Z",
     "iopub.status.idle": "2023-08-25T15:03:37.688671Z",
     "shell.execute_reply": "2023-08-25T15:03:37.686698Z"
    },
    "papermill": {
     "duration": 0.029149,
     "end_time": "2023-08-25T15:03:37.691881",
     "exception": false,
     "start_time": "2023-08-25T15:03:37.662732",
     "status": "completed"
    },
    "tags": []
   },
   "outputs": [
    {
     "data": {
      "text/plain": [
       "0    284315\n",
       "1       492\n",
       "Name: Class, dtype: int64"
      ]
     },
     "execution_count": 10,
     "metadata": {},
     "output_type": "execute_result"
    }
   ],
   "source": [
    "df['Class'].value_counts() #imbalance"
   ]
  },
  {
   "cell_type": "code",
   "execution_count": 11,
   "id": "e4e6741f",
   "metadata": {
    "execution": {
     "iopub.execute_input": "2023-08-25T15:03:37.713811Z",
     "iopub.status.busy": "2023-08-25T15:03:37.712982Z",
     "iopub.status.idle": "2023-08-25T15:03:37.735571Z",
     "shell.execute_reply": "2023-08-25T15:03:37.734151Z"
    },
    "papermill": {
     "duration": 0.037179,
     "end_time": "2023-08-25T15:03:37.739387",
     "exception": false,
     "start_time": "2023-08-25T15:03:37.702208",
     "status": "completed"
    },
    "tags": []
   },
   "outputs": [
    {
     "name": "stdout",
     "output_type": "stream",
     "text": [
      "   Scaled_Time  Scaled_Amount\n",
      "0    -1.996583       0.244964\n",
      "1    -1.996583      -0.342475\n",
      "2    -1.996562       1.160686\n",
      "3    -1.996562       0.140534\n",
      "4    -1.996541      -0.073403\n"
     ]
    }
   ],
   "source": [
    "scaler=StandardScaler()\n",
    "scaled_time = scaler.fit_transform(df['Time'].values.reshape(-1, 1))\n",
    "scaled_amount = scaler.fit_transform(df['Amount'].values.reshape(-1, 1))\n",
    "\n",
    "scaled_df = pd.DataFrame({\n",
    "    'Scaled_Time': scaled_time.flatten(),\n",
    "    'Scaled_Amount': scaled_amount.flatten()\n",
    "})\n",
    "\n",
    "print(scaled_df.head())"
   ]
  },
  {
   "cell_type": "markdown",
   "id": "8cf215ea",
   "metadata": {
    "papermill": {
     "duration": 0.010546,
     "end_time": "2023-08-25T15:03:37.760746",
     "exception": false,
     "start_time": "2023-08-25T15:03:37.750200",
     "status": "completed"
    },
    "tags": []
   },
   "source": [
    "## EDA ##"
   ]
  },
  {
   "cell_type": "code",
   "execution_count": 12,
   "id": "38785eb5",
   "metadata": {
    "execution": {
     "iopub.execute_input": "2023-08-25T15:03:37.780305Z",
     "iopub.status.busy": "2023-08-25T15:03:37.778816Z",
     "iopub.status.idle": "2023-08-25T15:03:38.054940Z",
     "shell.execute_reply": "2023-08-25T15:03:38.053733Z"
    },
    "papermill": {
     "duration": 0.288481,
     "end_time": "2023-08-25T15:03:38.057739",
     "exception": false,
     "start_time": "2023-08-25T15:03:37.769258",
     "status": "completed"
    },
    "tags": []
   },
   "outputs": [
    {
     "data": {
      "image/png": "[encoded data removed]",
      "text/plain": [
       "<Figure size 640x480 with 1 Axes>"
      ]
     },
     "metadata": {},
     "output_type": "display_data"
    }
   ],
   "source": [
    "df['Time'].plot()\n",
    "plt.show()"
   ]
  },
  {
   "cell_type": "code",
   "execution_count": 13,
   "id": "69ce0b6a",
   "metadata": {
    "execution": {
     "iopub.execute_input": "2023-08-25T15:03:38.077849Z",
     "iopub.status.busy": "2023-08-25T15:03:38.076122Z",
     "iopub.status.idle": "2023-08-25T15:03:38.452097Z",
     "shell.execute_reply": "2023-08-25T15:03:38.450531Z"
    },
    "papermill": {
     "duration": 0.388366,
     "end_time": "2023-08-25T15:03:38.454841",
     "exception": false,
     "start_time": "2023-08-25T15:03:38.066475",
     "status": "completed"
    },
    "tags": []
   },
   "outputs": [
    {
     "data": {
      "image/png": "[encoded data removed]",
      "text/plain": [
       "<Figure size 640x480 with 1 Axes>"
      ]
     },
     "metadata": {},
     "output_type": "display_data"
    }
   ],
   "source": [
    "ax = sns.histplot(data=df, x='Time')  \n",
    "plt.show()"
   ]
  },
  {
   "cell_type": "code",
   "execution_count": 14,
   "id": "8544c443",
   "metadata": {
    "execution": {
     "iopub.execute_input": "2023-08-25T15:03:38.475437Z",
     "iopub.status.busy": "2023-08-25T15:03:38.474945Z",
     "iopub.status.idle": "2023-08-25T15:03:38.980186Z",
     "shell.execute_reply": "2023-08-25T15:03:38.978868Z"
    },
    "papermill": {
     "duration": 0.518746,
     "end_time": "2023-08-25T15:03:38.983170",
     "exception": false,
     "start_time": "2023-08-25T15:03:38.464424",
     "status": "completed"
    },
    "tags": []
   },
   "outputs": [
    {
     "data": {
      "text/plain": [
       "<Axes: title={'center': 'Correlation with Class '}>"
      ]
     },
     "execution_count": 14,
     "metadata": {},
     "output_type": "execute_result"
    },
    {
     "data": {
      "image/png": "[encoded data removed]",
      "text/plain": [
       "<Figure size 1000x600 with 1 Axes>"
      ]
     },
     "metadata": {},
     "output_type": "display_data"
    }
   ],
   "source": [
    "df.drop('Class',axis=1).corrwith(df.Class).plot(kind='bar',grid=True,figsize=(10,6),title=\"Correlation with Class \")"
   ]
  },
  {
   "cell_type": "code",
   "execution_count": 16,
   "id": "ebe478ad",
   "metadata": {
    "execution": {
     "iopub.execute_input": "2023-08-25T15:03:39.222637Z",
     "iopub.status.busy": "2023-08-25T15:03:39.221978Z",
     "iopub.status.idle": "2023-08-25T15:03:39.247257Z",
     "shell.execute_reply": "2023-08-25T15:03:39.246132Z"
    },
    "papermill": {
     "duration": 0.041355,
     "end_time": "2023-08-25T15:03:39.249596",
     "exception": false,
     "start_time": "2023-08-25T15:03:39.208241",
     "status": "completed"
    },
    "tags": []
   },
   "outputs": [],
   "source": [
    "x=df.drop(columns='Class',axis=1)\n",
    "y=df['Class']"
   ]
  },
  {
   "cell_type": "code",
   "execution_count": 18,
   "id": "94ed058c",
   "metadata": {
    "execution": {
     "iopub.execute_input": "2023-08-25T15:03:39.358529Z",
     "iopub.status.busy": "2023-08-25T15:03:39.358106Z",
     "iopub.status.idle": "2023-08-25T15:03:39.370471Z",
     "shell.execute_reply": "2023-08-25T15:03:39.369138Z"
    },
    "papermill": {
     "duration": 0.026993,
     "end_time": "2023-08-25T15:03:39.372722",
     "exception": false,
     "start_time": "2023-08-25T15:03:39.345729",
     "status": "completed"
    },
    "tags": []
   },
   "outputs": [
    {
     "name": "stdout",
     "output_type": "stream",
     "text": [
      "the shape of x_train is : (688, 30)\n",
      "the shape of x_test is : (296, 30)\n",
      "the shape of y_tain is : (688,)\n",
      "the shape of y_test is (296,)\n"
     ]
    }
   ],
   "source": [
    "x_train,x_test,y_train,y_test=train_test_split(x,y,test_size=0.3,random_state=45)\n",
    "print(f\"the shape of x_train is : {x_train.shape}\")\n",
    "print(f'the shape of x_test is : {x_test.shape}')\n",
    "print(f'the shape of y_tain is : {y_train.shape}')\n",
    "print(f'the shape of y_test is {y_test.shape}')"
   ]
  },
  {
   "cell_type": "code",
   "execution_count": 19,
   "id": "349f1a58",
   "metadata": {
    "execution": {
     "iopub.execute_input": "2023-08-25T15:03:39.429561Z",
     "iopub.status.busy": "2023-08-25T15:03:39.429165Z",
     "iopub.status.idle": "2023-08-25T15:03:39.763765Z",
     "shell.execute_reply": "2023-08-25T15:03:39.761659Z"
    },
    "papermill": {
     "duration": 0.349338,
     "end_time": "2023-08-25T15:03:39.766861",
     "exception": false,
     "start_time": "2023-08-25T15:03:39.417523",
     "status": "completed"
    },
    "tags": []
   },
   "outputs": [
    {
     "name": "stdout",
     "output_type": "stream",
     "text": [
      "classification report :              precision    recall  f1-score   support\n",
      "\n",
      "           0       0.91      1.00      0.95       143\n",
      "           1       1.00      0.91      0.95       153\n",
      "\n",
      "    accuracy                           0.95       296\n",
      "   macro avg       0.96      0.95      0.95       296\n",
      "weighted avg       0.96      0.95      0.95       296\n",
      "\n",
      "*************************************\n",
      "confusion matrix :[[143   0]\n",
      " [ 14 139]]\n",
      "*************************************\n",
      "accuracy score :0.9527027027027027\n"
     ]
    }
   ],
   "source": [
    "rf=RandomForestClassifier()\n",
    "rf.fit(x_train,y_train)\n",
    "y_pred=rf.predict(x_test)\n",
    "\n",
    "print(f'classification report :{classification_report(y_test,y_pred)}')\n",
    "print('*************************************')\n",
    "print(f'confusion matrix :{confusion_matrix(y_test,y_pred)}')\n",
    "print('*************************************')\n",
    "print(f'accuracy score :{accuracy_score(y_test,y_pred)}')"
   ]
  },
  {
   "cell_type": "code",
   "execution_count": 21,
   "id": "339ff3e8",
   "metadata": {
    "execution": {
     "iopub.execute_input": "2023-08-25T15:03:39.900204Z",
     "iopub.status.busy": "2023-08-25T15:03:39.899830Z",
     "iopub.status.idle": "2023-08-25T15:03:39.971262Z",
     "shell.execute_reply": "2023-08-25T15:03:39.969558Z"
    },
    "papermill": {
     "duration": 0.086364,
     "end_time": "2023-08-25T15:03:39.974329",
     "exception": false,
     "start_time": "2023-08-25T15:03:39.887965",
     "status": "completed"
    },
    "tags": []
   },
   "outputs": [
    {
     "name": "stdout",
     "output_type": "stream",
     "text": [
      "classification report :              precision    recall  f1-score   support\n",
      "\n",
      "           0       0.91      0.97      0.94       143\n",
      "           1       0.97      0.91      0.94       153\n",
      "\n",
      "    accuracy                           0.94       296\n",
      "   macro avg       0.94      0.94      0.94       296\n",
      "weighted avg       0.94      0.94      0.94       296\n",
      "\n",
      "*************************************\n",
      "confusion matrix :[[139   4]\n",
      " [ 14 139]]\n",
      "*************************************\n",
      "accuracy score :0.9391891891891891\n"
     ]
    }
   ],
   "source": [
    "lr=LogisticRegression()\n",
    "lr.fit(x_train,y_train)\n",
    "y_pred2=lr.predict(x_test)\n",
    "\n",
    "\n",
    "print(f'classification report :{classification_report(y_test,y_pred2)}')\n",
    "print('*************************************')\n",
    "print(f'confusion matrix :{confusion_matrix(y_test,y_pred2)}')\n",
    "print('*************************************')\n",
    "print(f'accuracy score :{accuracy_score(y_test,y_pred2)}')"
   ]
  }
 ],
 "metadata": {
  "kernelspec": {
   "display_name": "Python 3",
   "language": "python",
   "name": "python3"
  },
  "language_info": {
   "codemirror_mode": {
    "name": "ipython",
    "version": 3
   },
   "file_extension": ".py",
   "mimetype": "text/x-python",
   "name": "python",
   "nbconvert_exporter": "python",
   "pygments_lexer": "ipython3",
   "version": "3.10.12"
  },
  "papermill": {
   "default_parameters": {},
   "duration": 24.710335,
   "end_time": "2023-08-25T15:03:41.215600",
   "environment_variables": {},
   "exception": null,
   "input_path": "__notebook__.ipynb",
   "output_path": "__notebook__.ipynb",
   "parameters": {},
   "start_time": "2023-08-25T15:03:16.505265",
   "version": "2.4.0"
  }
 },
 "nbformat": 4,
 "nbformat_minor": 5
}
